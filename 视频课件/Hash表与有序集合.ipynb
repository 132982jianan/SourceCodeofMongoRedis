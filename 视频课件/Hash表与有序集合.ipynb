{
 "cells": [
  {
   "cell_type": "markdown",
   "metadata": {},
   "source": [
    "# 哈希表的基本操作\n",
    "![](https://kingname-1257411235.cos.ap-chengdu.myqcloud.com/2019-03-03-16-52-34.png)\n"
   ]
  },
  {
   "cell_type": "markdown",
   "metadata": {},
   "source": [
    "## 哈希表（Hash）\n",
    "\n",
    "### 基本功能\n",
    "\n",
    "Redis的Hash被设计出来，就是为了存储大量的键值对映射。储存相同数量的键值映射，Hash所占用的内存空间，远远小于字符串。\n",
    "\n",
    "### 基本语法\n",
    "\n",
    "```python\n",
    "import redis\n",
    "\n",
    "client = redis.Redis()\n",
    "\n",
    "# 向Hash表中添加一个键值对\n",
    "client.hset('Key', '字段名', '值')\n",
    "\n",
    "# 向Hash表中添加多个键值对\n",
    "client.hmset('Key', {'字段名1': '值1', '字段名2': '值2', '字段名3': '值3'})\n",
    "\n",
    "# 查询字段是否在哈希表中\n",
    "client.hexists('Key', '字段名')\n",
    "\n",
    "# 查询哈希表中一个有多少个字段\n",
    "client.hlen('Key')\n",
    "\n",
    "# 获取Hash表里面所有的字段名（慎用）\n",
    "client.hkeys('Key')\n",
    "\n",
    "# 读取一个字段中的数据\n",
    "client.hget('Key', '字段名')\n",
    "\n",
    "# 读取多个字段中的数据\n",
    "client.hmget('Key', ['字段名1', '字段名2', '字段名3'])\n",
    "\n",
    "# 读取全部字段（慎用）\n",
    "client.hgetall('Key')\n",
    "```"
   ]
  },
  {
   "cell_type": "markdown",
   "metadata": {},
   "source": [
    "## 向哈希表中写入数据"
   ]
  },
  {
   "cell_type": "code",
   "execution_count": null,
   "metadata": {
    "collapsed": true
   },
   "outputs": [],
   "source": [
    "# 初始化Redis连接\n",
    "import redis\n",
    "import json\n",
    "client = redis.Redis()"
   ]
  },
  {
   "cell_type": "code",
   "execution_count": null,
   "metadata": {},
   "outputs": [],
   "source": [
    "# 添加一条数据\n",
    "\n",
    "info = json.dumps({'name': '张小二', 'age': 18, 'salary': 100, 'address': '北京'})\n",
    "client.hset('user', 10001, info)"
   ]
  },
  {
   "cell_type": "code",
   "execution_count": null,
   "metadata": {},
   "outputs": [],
   "source": [
    "# 插入多条数据\n",
    "info_dict = {\n",
    "    10002: json.dumps({'name': '王小三', 'age': 27, 'salary': 10000, 'address': '浙江'}),\n",
    "    10003: json.dumps({'name': '藏小四', 'age': 16, 'salary': 10, 'address': '四川'}),\n",
    "    10004: json.dumps({'name': '刘小五', 'age': 30, 'salary': 990, 'address': '武汉'})\n",
    "}\n",
    "client.hmset('user', info_dict)"
   ]
  },
  {
   "cell_type": "code",
   "execution_count": null,
   "metadata": {},
   "outputs": [],
   "source": [
    "# 字段名不一定非要是数字，也可以是字母或者中文，字段值的数据类型也可以任意设定\n",
    "\n",
    "client.hset('user', '马小七', 780)"
   ]
  },
  {
   "cell_type": "markdown",
   "metadata": {},
   "source": [
    "## 检查字段信息"
   ]
  },
  {
   "cell_type": "code",
   "execution_count": null,
   "metadata": {},
   "outputs": [],
   "source": [
    "# 检查字段是否在Hash表中\n",
    "client.hexists('user', 10003)"
   ]
  },
  {
   "cell_type": "code",
   "execution_count": null,
   "metadata": {},
   "outputs": [],
   "source": [
    "client.hexists('user', '马小七')"
   ]
  },
  {
   "cell_type": "code",
   "execution_count": null,
   "metadata": {},
   "outputs": [],
   "source": [
    "client.hexists('user', '不存在的字段')"
   ]
  },
  {
   "cell_type": "code",
   "execution_count": null,
   "metadata": {},
   "outputs": [],
   "source": [
    "client.hexists('不存在的Key', 10003)"
   ]
  },
  {
   "cell_type": "code",
   "execution_count": null,
   "metadata": {},
   "outputs": [],
   "source": [
    "# 查询Hash中有多少字段\n",
    "client.hlen('user')"
   ]
  },
  {
   "cell_type": "code",
   "execution_count": null,
   "metadata": {},
   "outputs": [],
   "source": [
    "keys = client.hkeys('user')\n",
    "for key in keys:\n",
    "    print(key.decode())"
   ]
  },
  {
   "cell_type": "markdown",
   "metadata": {},
   "source": [
    "## 获取键值对\n"
   ]
  },
  {
   "cell_type": "code",
   "execution_count": null,
   "metadata": {},
   "outputs": [],
   "source": [
    "# 获取单条数据\n",
    "data = client.hget('user', '马小七')\n",
    "print(f'返回的数据类型为：{type(data)}, 数据内容为：{data}')\n",
    "print(f'数据解析以后为：{data.decode()}')\n"
   ]
  },
  {
   "cell_type": "code",
   "execution_count": null,
   "metadata": {},
   "outputs": [],
   "source": [
    "data = client.hget('user', 10003)\n",
    "data_dict = json.loads(data)\n",
    "print(f'用JSON解析以后：{data_dict}')"
   ]
  },
  {
   "cell_type": "code",
   "execution_count": null,
   "metadata": {},
   "outputs": [],
   "source": [
    "# 批量获取数据\n",
    "\n",
    "data_list = client.hmget('user', [10001, 10003])\n",
    "for data in data_list:\n",
    "    print(json.loads(data))"
   ]
  },
  {
   "cell_type": "code",
   "execution_count": null,
   "metadata": {},
   "outputs": [],
   "source": [
    "## 获取全部数据\n",
    "\n",
    "all_data = client.hgetall('user')\n",
    "print(f'先来看看返回的数据是什么样的：{all_data}')\n",
    "\n"
   ]
  },
  {
   "cell_type": "code",
   "execution_count": null,
   "metadata": {},
   "outputs": [],
   "source": [
    "for field, value in all_data.items():\n",
    "    print(f'字段名：{field.decode()}, 值：{json.loads(value)}')"
   ]
  },
  {
   "cell_type": "markdown",
   "metadata": {},
   "source": [
    "![读者交流QQ群](https://kingname-1257411235.cos.ap-chengdu.myqcloud.com/2019-02-16-09-59-56.png)\n",
    "![微信公众号](https://kingname-1257411235.cos.ap-chengdu.myqcloud.com/wechatplatform.jpg)\n",
    "![](https://kingname-1257411235.cos.ap-chengdu.myqcloud.com/2019-03-03-20-47-47.png)"
   ]
  },
  {
   "cell_type": "code",
   "execution_count": null,
   "metadata": {
    "collapsed": true
   },
   "outputs": [],
   "source": []
  },
  {
   "cell_type": "markdown",
   "metadata": {},
   "source": [
    "## 使用列表和Hash实现简单的任务队列\n",
    "![](https://kingname-1257411235.cos.ap-chengdu.myqcloud.com/2019-03-03-16-52-34.png)\n"
   ]
  },
  {
   "cell_type": "markdown",
   "metadata": {},
   "source": [
    "### 为什么需要任务队列？\n",
    "\n",
    "有一系列比较耗时的任务，不能实时完成，此时就需要使用任务队列排队完成。例如，网站注册时需要发送验证邮件。发送1封邮件需要2秒钟。现在只有一台邮件服务器，有100人同时注册。\n",
    "\n",
    "发邮件的过程不能让网站来完成。网站只是创建发邮件的任务，并把任务扔进任务队列中。另一个专门负责发邮件的程序从任务队列中读取任务，然后执行具体的发送操作。\n",
    "\n",
    "### 任务队列需要实现哪些功能？\n",
    "\n",
    "1. 添加任务\n",
    "2. 删除任务\n",
    "3. 暂停任务\n",
    "4. 恢复被暂停的任务并重新排队\n",
    "\n",
    "### 如何设计邮件的数据结构？\n",
    "\n",
    "* 列表中存放任务ID\n",
    "* Hash中存放任务详情，字段名为任务ID\n",
    "\n",
    "任务详情的结构为：\n",
    "\n",
    "```python\n",
    "{\n",
    "    \"task_id\": 123,\n",
    "    \"target\": \"xxx@163.com\",\n",
    "    \"created_time\": \"2019-03-24 11:12:34\"\n",
    "}\n",
    "```"
   ]
  },
  {
   "cell_type": "markdown",
   "metadata": {},
   "source": [
    "## 添加任务\n",
    "\n",
    "* 哈希表的Key为：task:detail\n",
    "* 列表的Key为：task:queue\n",
    "\n",
    "1. 首先创建任务详情，并写入Hash表中\n",
    "2. 把任务ID写入到列表中"
   ]
  },
  {
   "cell_type": "code",
   "execution_count": 1,
   "metadata": {
    "collapsed": true
   },
   "outputs": [],
   "source": [
    "# 初始化Redis连接\n",
    "\n",
    "import redis\n",
    "client = redis.Redis()"
   ]
  },
  {
   "cell_type": "code",
   "execution_count": 3,
   "metadata": {
    "collapsed": true
   },
   "outputs": [],
   "source": [
    "# 添加任务\n",
    "import datetime\n",
    "import json\n",
    "\n",
    "\n",
    "def add_task(task_id, target):\n",
    "    task_detail = {'task_id': task_id,\n",
    "                   'target': target,\n",
    "                   'created_time': datetime.datetime.now().strftime('%Y-%m-%d %H:%M:%S')}\n",
    "    client.hset('task:detail', task_id, json.dumps(task_detail))\n",
    "    client.rpush('task:queue', task_id)"
   ]
  },
  {
   "cell_type": "code",
   "execution_count": 4,
   "metadata": {},
   "outputs": [],
   "source": [
    "# 发邮件的程序读取任务\n",
    "\n",
    "def read_task():\n",
    "    task_id = client.blpop('task:queue')[1].decode()\n",
    "    task_detail = client.hget('task:detail', task_id)\n",
    "    target = json.loads(task_detail)['target']\n",
    "    print(f'给：{target} 发送邮件')\n",
    "    "
   ]
  },
  {
   "cell_type": "code",
   "execution_count": 5,
   "metadata": {
    "collapsed": true
   },
   "outputs": [],
   "source": [
    "# 删除任务\n",
    "\n",
    "def del_task(task_id):\n",
    "    client.lrem('task:queue', 0, task_id)\n",
    "    client.hdel('task:detail', task_id)"
   ]
  },
  {
   "cell_type": "markdown",
   "metadata": {},
   "source": [
    "## 暂停和恢复任务\n",
    "\n",
    "暂停和恢复任务都不会影响task:detail，只需要控制task:queue中的task_id即可。\n",
    "\n",
    "### 暂停任务\n",
    "\n",
    "1. 把task_id从task:queue中移除\n",
    "2. 把task_id放入暂停列表：task:pause中\n",
    "\n",
    "### 恢复任务\n",
    "\n",
    "1. 把task_id从task:pause中移除\n",
    "2. 把task_id重新放入task:queue右侧"
   ]
  },
  {
   "cell_type": "code",
   "execution_count": 6,
   "metadata": {
    "collapsed": true
   },
   "outputs": [],
   "source": [
    "# 暂停任务\n",
    "\n",
    "def pause_task(task_id):\n",
    "    client.lrem('task:queue', 0, task_id)\n",
    "    client.rpush('task:pause', task_id)"
   ]
  },
  {
   "cell_type": "code",
   "execution_count": 7,
   "metadata": {
    "collapsed": true
   },
   "outputs": [],
   "source": [
    "# 恢复任务\n",
    "\n",
    "def resume_task(task_id):\n",
    "    client.lrem('task:pause', 0, task_id)\n",
    "    client.rpush('task:queue', task_id)"
   ]
  },
  {
   "cell_type": "markdown",
   "metadata": {},
   "source": [
    "## 来测试一下我们的简易任务队列"
   ]
  },
  {
   "cell_type": "code",
   "execution_count": 8,
   "metadata": {},
   "outputs": [],
   "source": [
    "# 添加任务\n",
    "add_task(1, 'contact@kingname.info')"
   ]
  },
  {
   "cell_type": "code",
   "execution_count": 9,
   "metadata": {
    "collapsed": true
   },
   "outputs": [],
   "source": [
    "add_task(2, 'register@163.com')"
   ]
  },
  {
   "cell_type": "code",
   "execution_count": 10,
   "metadata": {},
   "outputs": [
    {
     "name": "stdout",
     "output_type": "stream",
     "text": [
      "给：contact@kingname.info 发送邮件\n"
     ]
    }
   ],
   "source": [
    "# 读取任务\n",
    "read_task()"
   ]
  },
  {
   "cell_type": "code",
   "execution_count": 11,
   "metadata": {
    "collapsed": true
   },
   "outputs": [],
   "source": [
    "add_task(3, 'rain@gmail.com')"
   ]
  },
  {
   "cell_type": "code",
   "execution_count": 12,
   "metadata": {
    "collapsed": true
   },
   "outputs": [],
   "source": [
    "add_task(4, 'world@hotmail.com')"
   ]
  },
  {
   "cell_type": "code",
   "execution_count": 13,
   "metadata": {},
   "outputs": [],
   "source": [
    "## 删除任务\n",
    "del_task(2)"
   ]
  },
  {
   "cell_type": "code",
   "execution_count": 14,
   "metadata": {
    "collapsed": true
   },
   "outputs": [],
   "source": [
    "add_task(5, 'hello@facebook.com')"
   ]
  },
  {
   "cell_type": "code",
   "execution_count": 15,
   "metadata": {
    "collapsed": true
   },
   "outputs": [],
   "source": [
    "pause_task(4)"
   ]
  },
  {
   "cell_type": "code",
   "execution_count": 16,
   "metadata": {},
   "outputs": [
    {
     "name": "stdout",
     "output_type": "stream",
     "text": [
      "给：rain@gmail.com 发送邮件\n"
     ]
    }
   ],
   "source": [
    "read_task()"
   ]
  },
  {
   "cell_type": "code",
   "execution_count": 17,
   "metadata": {},
   "outputs": [
    {
     "name": "stdout",
     "output_type": "stream",
     "text": [
      "给：hello@facebook.com 发送邮件\n"
     ]
    }
   ],
   "source": [
    "read_task()"
   ]
  },
  {
   "cell_type": "code",
   "execution_count": 18,
   "metadata": {
    "collapsed": true
   },
   "outputs": [],
   "source": [
    "# 恢复任务\n",
    "resume_task(4)"
   ]
  },
  {
   "cell_type": "code",
   "execution_count": 19,
   "metadata": {},
   "outputs": [
    {
     "name": "stdout",
     "output_type": "stream",
     "text": [
      "给：world@hotmail.com 发送邮件\n"
     ]
    }
   ],
   "source": [
    "read_task()"
   ]
  },
  {
   "cell_type": "markdown",
   "metadata": {},
   "source": [
    "![读者交流QQ群](https://kingname-1257411235.cos.ap-chengdu.myqcloud.com/2019-02-16-09-59-56.png)\n",
    "![微信公众号](https://kingname-1257411235.cos.ap-chengdu.myqcloud.com/wechatplatform.jpg)\n",
    "![](https://kingname-1257411235.cos.ap-chengdu.myqcloud.com/2019-03-03-20-47-47.png)"
   ]
  },
  {
   "cell_type": "code",
   "execution_count": null,
   "metadata": {
    "collapsed": true
   },
   "outputs": [],
   "source": []
  }
 ],
 "metadata": {
  "kernelspec": {
   "display_name": "Python 3",
   "language": "python",
   "name": "python3"
  },
  "language_info": {
   "codemirror_mode": {
    "name": "ipython",
    "version": 3
   },
   "file_extension": ".py",
   "mimetype": "text/x-python",
   "name": "python",
   "nbconvert_exporter": "python",
   "pygments_lexer": "ipython3",
   "version": "3.6.8"
  }
 },
 "nbformat": 4,
 "nbformat_minor": 2
}
