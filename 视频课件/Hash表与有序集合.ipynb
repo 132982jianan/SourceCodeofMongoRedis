{
 "cells": [
  {
   "cell_type": "markdown",
   "metadata": {},
   "source": [
    "# 哈希表的基本操作\n",
    "![](https://kingname-1257411235.cos.ap-chengdu.myqcloud.com/2019-03-03-16-52-34.png)\n"
   ]
  },
  {
   "cell_type": "markdown",
   "metadata": {},
   "source": [
    "## 哈希表（Hash）\n",
    "\n",
    "### 基本功能\n",
    "\n",
    "Redis的Hash被设计出来，就是为了存储大量的键值对映射。储存相同数量的键值映射，Hash所占用的内存空间，远远小于字符串。\n",
    "\n",
    "### 基本语法\n",
    "\n",
    "```python\n",
    "import redis\n",
    "\n",
    "client = redis.Redis()\n",
    "\n",
    "# 向Hash表中添加一个键值对\n",
    "client.hset('Key', '字段名', '值')\n",
    "\n",
    "# 向Hash表中添加多个键值对\n",
    "client.hmset('Key', {'字段名1': '值1', '字段名2': '值2', '字段名3': '值3'})\n",
    "\n",
    "# 查询字段是否在哈希表中\n",
    "client.hexists('Key', '字段名')\n",
    "\n",
    "# 查询哈希表中一个有多少个字段\n",
    "client.hlen('Key')\n",
    "\n",
    "# 获取Hash表里面所有的字段名（慎用）\n",
    "client.hkeys('Key')\n",
    "\n",
    "# 读取一个字段中的数据\n",
    "client.hget('Key', '字段名')\n",
    "\n",
    "# 读取多个字段中的数据\n",
    "client.hmget('Key', ['字段名1', '字段名2', '字段名3'])\n",
    "\n",
    "# 读取全部字段（慎用）\n",
    "client.hgetall('Key')\n",
    "```"
   ]
  },
  {
   "cell_type": "markdown",
   "metadata": {},
   "source": [
    "## 向哈希表中写入数据"
   ]
  },
  {
   "cell_type": "code",
   "execution_count": 32,
   "metadata": {},
   "outputs": [],
   "source": [
    "# 初始化Redis连接\n",
    "import redis\n",
    "import json\n",
    "client = redis.Redis()"
   ]
  },
  {
   "cell_type": "code",
   "execution_count": 33,
   "metadata": {},
   "outputs": [
    {
     "data": {
      "text/plain": [
       "1"
      ]
     },
     "execution_count": 33,
     "metadata": {},
     "output_type": "execute_result"
    }
   ],
   "source": [
    "# 添加一条数据\n",
    "\n",
    "info = json.dumps({'name': '张小二', 'age': 18, 'salary': 100, 'address': '北京'})\n",
    "client.hset('user', 10001, info)"
   ]
  },
  {
   "cell_type": "code",
   "execution_count": 34,
   "metadata": {},
   "outputs": [
    {
     "data": {
      "text/plain": [
       "True"
      ]
     },
     "execution_count": 34,
     "metadata": {},
     "output_type": "execute_result"
    }
   ],
   "source": [
    "# 插入多条数据\n",
    "info_dict = {\n",
    "    10002: json.dumps({'name': '王小三', 'age': 27, 'salary': 10000, 'address': '浙江'}),\n",
    "    10003: json.dumps({'name': '藏小四', 'age': 16, 'salary': 10, 'address': '四川'}),\n",
    "    10004: json.dumps({'name': '刘小五', 'age': 30, 'salary': 990, 'address': '武汉'})\n",
    "}\n",
    "client.hmset('user', info_dict)"
   ]
  },
  {
   "cell_type": "code",
   "execution_count": 35,
   "metadata": {},
   "outputs": [
    {
     "data": {
      "text/plain": [
       "1"
      ]
     },
     "execution_count": 35,
     "metadata": {},
     "output_type": "execute_result"
    }
   ],
   "source": [
    "# 字段名不一定非要是数字，也可以是字母或者中文，字段值的数据类型也可以任意设定\n",
    "\n",
    "client.hset('user', '马小七', 780)"
   ]
  },
  {
   "cell_type": "markdown",
   "metadata": {},
   "source": [
    "## 检查字段信息"
   ]
  },
  {
   "cell_type": "code",
   "execution_count": 36,
   "metadata": {},
   "outputs": [
    {
     "data": {
      "text/plain": [
       "True"
      ]
     },
     "execution_count": 36,
     "metadata": {},
     "output_type": "execute_result"
    }
   ],
   "source": [
    "# 检查字段是否在Hash表中\n",
    "client.hexists('user', 10003)"
   ]
  },
  {
   "cell_type": "code",
   "execution_count": 37,
   "metadata": {},
   "outputs": [
    {
     "data": {
      "text/plain": [
       "True"
      ]
     },
     "execution_count": 37,
     "metadata": {},
     "output_type": "execute_result"
    }
   ],
   "source": [
    "client.hexists('user', '马小七')"
   ]
  },
  {
   "cell_type": "code",
   "execution_count": 38,
   "metadata": {},
   "outputs": [
    {
     "data": {
      "text/plain": [
       "False"
      ]
     },
     "execution_count": 38,
     "metadata": {},
     "output_type": "execute_result"
    }
   ],
   "source": [
    "client.hexists('user', '不存在的字段')"
   ]
  },
  {
   "cell_type": "code",
   "execution_count": 40,
   "metadata": {},
   "outputs": [
    {
     "data": {
      "text/plain": [
       "False"
      ]
     },
     "execution_count": 40,
     "metadata": {},
     "output_type": "execute_result"
    }
   ],
   "source": [
    "client.hexists('不存在的Key', 10003)"
   ]
  },
  {
   "cell_type": "code",
   "execution_count": 41,
   "metadata": {},
   "outputs": [
    {
     "data": {
      "text/plain": [
       "5"
      ]
     },
     "execution_count": 41,
     "metadata": {},
     "output_type": "execute_result"
    }
   ],
   "source": [
    "# 查询Hash中有多少字段\n",
    "client.hlen('user')"
   ]
  },
  {
   "cell_type": "code",
   "execution_count": 43,
   "metadata": {},
   "outputs": [
    {
     "name": "stdout",
     "output_type": "stream",
     "text": [
      "10003\n",
      "马小七\n",
      "10001\n",
      "10002\n",
      "10004\n"
     ]
    }
   ],
   "source": [
    "keys = client.hkeys('user')\n",
    "for key in keys:\n",
    "    print(key.decode())"
   ]
  },
  {
   "cell_type": "markdown",
   "metadata": {},
   "source": [
    "## 获取键值对\n"
   ]
  },
  {
   "cell_type": "code",
   "execution_count": 44,
   "metadata": {},
   "outputs": [
    {
     "name": "stdout",
     "output_type": "stream",
     "text": [
      "返回的数据类型为：<class 'bytes'>, 数据内容为：b'780'\n",
      "数据解析以后为：780\n"
     ]
    }
   ],
   "source": [
    "# 获取单条数据\n",
    "data = client.hget('user', '马小七')\n",
    "print(f'返回的数据类型为：{type(data)}, 数据内容为：{data}')\n",
    "print(f'数据解析以后为：{data.decode()}')\n"
   ]
  },
  {
   "cell_type": "code",
   "execution_count": 45,
   "metadata": {},
   "outputs": [
    {
     "name": "stdout",
     "output_type": "stream",
     "text": [
      "用JSON解析以后：{'name': '藏小四', 'age': 16, 'salary': 10, 'address': '四川'}\n"
     ]
    }
   ],
   "source": [
    "data = client.hget('user', 10003)\n",
    "data_dict = json.loads(data)\n",
    "print(f'用JSON解析以后：{data_dict}')"
   ]
  },
  {
   "cell_type": "code",
   "execution_count": 46,
   "metadata": {},
   "outputs": [
    {
     "name": "stdout",
     "output_type": "stream",
     "text": [
      "{'name': '张小二', 'age': 18, 'salary': 100, 'address': '北京'}\n",
      "{'name': '藏小四', 'age': 16, 'salary': 10, 'address': '四川'}\n"
     ]
    }
   ],
   "source": [
    "# 批量获取数据\n",
    "\n",
    "data_list = client.hmget('user', [10001, 10003])\n",
    "for data in data_list:\n",
    "    print(json.loads(data))"
   ]
  },
  {
   "cell_type": "code",
   "execution_count": 47,
   "metadata": {},
   "outputs": [
    {
     "name": "stdout",
     "output_type": "stream",
     "text": [
      "先来看看返回的数据是什么样的：{b'10003': b'{\"name\": \"\\\\u85cf\\\\u5c0f\\\\u56db\", \"age\": 16, \"salary\": 10, \"address\": \"\\\\u56db\\\\u5ddd\"}', b'\\xe9\\xa9\\xac\\xe5\\xb0\\x8f\\xe4\\xb8\\x83': b'780', b'10001': b'{\"name\": \"\\\\u5f20\\\\u5c0f\\\\u4e8c\", \"age\": 18, \"salary\": 100, \"address\": \"\\\\u5317\\\\u4eac\"}', b'10002': b'{\"name\": \"\\\\u738b\\\\u5c0f\\\\u4e09\", \"age\": 27, \"salary\": 10000, \"address\": \"\\\\u6d59\\\\u6c5f\"}', b'10004': b'{\"name\": \"\\\\u5218\\\\u5c0f\\\\u4e94\", \"age\": 30, \"salary\": 990, \"address\": \"\\\\u6b66\\\\u6c49\"}'}\n"
     ]
    }
   ],
   "source": [
    "## 获取全部数据\n",
    "\n",
    "all_data = client.hgetall('user')\n",
    "print(f'先来看看返回的数据是什么样的：{all_data}')\n",
    "\n"
   ]
  },
  {
   "cell_type": "code",
   "execution_count": 48,
   "metadata": {},
   "outputs": [
    {
     "name": "stdout",
     "output_type": "stream",
     "text": [
      "字段名：10003, 值：{'name': '藏小四', 'age': 16, 'salary': 10, 'address': '四川'}\n",
      "字段名：马小七, 值：780\n",
      "字段名：10001, 值：{'name': '张小二', 'age': 18, 'salary': 100, 'address': '北京'}\n",
      "字段名：10002, 值：{'name': '王小三', 'age': 27, 'salary': 10000, 'address': '浙江'}\n",
      "字段名：10004, 值：{'name': '刘小五', 'age': 30, 'salary': 990, 'address': '武汉'}\n"
     ]
    }
   ],
   "source": [
    "for field, value in all_data.items():\n",
    "    print(f'字段名：{field.decode()}, 值：{json.loads(value)}')"
   ]
  },
  {
   "cell_type": "markdown",
   "metadata": {},
   "source": [
    "![读者交流QQ群](https://kingname-1257411235.cos.ap-chengdu.myqcloud.com/2019-02-16-09-59-56.png)\n",
    "![微信公众号](https://kingname-1257411235.cos.ap-chengdu.myqcloud.com/wechatplatform.jpg)\n",
    "![](https://kingname-1257411235.cos.ap-chengdu.myqcloud.com/2019-03-03-20-47-47.png)"
   ]
  },
  {
   "cell_type": "code",
   "execution_count": null,
   "metadata": {
    "collapsed": true
   },
   "outputs": [],
   "source": []
  }
 ],
 "metadata": {
  "kernelspec": {
   "display_name": "Python 3",
   "language": "python",
   "name": "python3"
  },
  "language_info": {
   "codemirror_mode": {
    "name": "ipython",
    "version": 3
   },
   "file_extension": ".py",
   "mimetype": "text/x-python",
   "name": "python",
   "nbconvert_exporter": "python",
   "pygments_lexer": "ipython3",
   "version": "3.6.8"
  }
 },
 "nbformat": 4,
 "nbformat_minor": 2
}
